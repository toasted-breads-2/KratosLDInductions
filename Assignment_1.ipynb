{
  "nbformat": 4,
  "nbformat_minor": 0,
  "metadata": {
    "colab": {
      "provenance": [],
      "include_colab_link": true
    },
    "kernelspec": {
      "name": "python3",
      "display_name": "Python 3"
    }
  },
  "cells": [
    {
      "cell_type": "markdown",
      "metadata": {
        "id": "view-in-github",
        "colab_type": "text"
      },
      "source": [
        "<a href=\"https://colab.research.google.com/github/toasted-breads-2/KratosLDInductions/blob/main/Assignment_1.ipynb\" target=\"_parent\"><img src=\"https://colab.research.google.com/assets/colab-badge.svg\" alt=\"Open In Colab\"/></a>"
      ]
    },
    {
      "cell_type": "markdown",
      "metadata": {
        "id": "H_oPCxz_AlLG"
      },
      "source": [
        "## Assignment Notebook\n",
        "1. This is a template given to solve your assignment. <b>Make a copy of this notebook and work on that.</b>\n",
        "2. Fill in the cells and run the cell to know if your code works or not.\n",
        "3. Upload the notebook to classroom.\n",
        "\n",
        "**Note:** Use only NumPy and Matplotlib"
      ]
    },
    {
      "cell_type": "code",
      "source": [
        "# Import NumPy and Matplotlib\n",
        "import numpy as np\n",
        "import matplotlib.pyplot as plt"
      ],
      "metadata": {
        "id": "UucDy_9xSjXP"
      },
      "execution_count": null,
      "outputs": []
    },
    {
      "cell_type": "markdown",
      "metadata": {
        "id": "aSl_aPoOAkQj"
      },
      "source": [
        "## Question 1:\n",
        "Plot the following distributions:\n",
        "- Normal distribution with μ=0, σ<sup>2</sup>=1\n",
        "- Normal distribution with μ=4, σ<sup>2</sup>=5\n",
        "- Uniform distribution with a=1, b=5. \n",
        "\n",
        "Hint: \n",
        "The Normal distribution is given by:\n",
        "\n",
        "<img src=\"data:image/png;base64,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\"> </img>\n",
        "\n",
        "And uniform distribution is given by:\n",
        "\n",
        "<img src=\"https://encrypted-tbn0.gstatic.com/images?q=tbn:ANd9GcR59WZkG9fl7V-m2b9mm7YNQ4kYFmD9l_2ffQ&usqp=CAU\"> </img>\n",
        "\n"
      ]
    },
    {
      "cell_type": "code",
      "source": [
        "# Add Question 1 code here\n"
      ],
      "metadata": {
        "id": "y3XPWfvNEi6E"
      },
      "execution_count": null,
      "outputs": []
    },
    {
      "cell_type": "markdown",
      "metadata": {
        "id": "HKMW8JoFBmLm"
      },
      "source": [
        "## Question 2:\n",
        "\n",
        "Curve fitting is done to get an approximate polynomial that can describe given data. Fit a third degree polynomial for the given data and plot accordingly.\n",
        "\n",
        "1. The x and y values are pregenerated.\n",
        "2. Fit the data to a curve using `NumPy` only.\n",
        "3. Plot the data along with the curve in the same plot\n"
      ]
    },
    {
      "cell_type": "markdown",
      "metadata": {
        "id": "fRHzBbEeCqUV"
      },
      "source": [
        "##Example image for the required output\n",
        "\n",
        "![index.png](data:image/png;base64,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)"
      ]
    },
    {
      "cell_type": "code",
      "metadata": {
        "id": "d9IN_B5YBj4O"
      },
      "source": [
        "# Data for question 2\n",
        "x = np.array([-2.17, -2.12, -2.07, -2.02, -1.97, -1.92, -1.87, -1.82, -1.77,\n",
        "       -1.72, -1.67, -1.62, -1.57, -1.52, -1.47, -1.42, -1.37, -1.32,\n",
        "       -1.27, -1.22, -1.17, -1.12, -1.07, -1.02, -0.97, -0.92, -0.87,\n",
        "       -0.82, -0.77, -0.72, -0.67, -0.62, -0.57, -0.52, -0.47, -0.42,\n",
        "       -0.37, -0.32, -0.27, -0.22, -0.17, -0.12, -0.07, -0.02,  0.03,\n",
        "        0.08,  0.13,  0.18,  0.23,  0.28,  0.33,  0.38,  0.43,  0.48,\n",
        "        0.53,  0.58,  0.63,  0.68,  0.73,  0.78,  0.83,  0.88,  0.93,\n",
        "        0.98,  1.03,  1.08,  1.13,  1.18,  1.23,  1.28,  1.33,  1.38,\n",
        "        1.43,  1.48,  1.53,  1.58,  1.63,  1.68,  1.73,  1.78,  1.83,\n",
        "        1.88,  1.93,  1.98,  2.03,  2.08,  2.13,  2.18,  2.23,  2.28,\n",
        "        2.33,  2.38,  2.43,  2.48,  2.53,  2.58,  2.63,  2.68,  2.73,\n",
        "        2.78,  2.83,  2.88,  2.93,  2.98,  3.03,  3.08,  3.13])\n",
        "\n",
        "\n",
        "y = np.array([-10.90564444,  -7.01731766,  -2.44350419,  -9.29957573,\n",
        "        -7.55372228, -10.20294377,   0.35769757, -12.30461246,\n",
        "        -6.41155996,  -5.95706292,   1.96910182,  -2.69407599,\n",
        "        -4.2563456 ,   1.97762461,  -4.078291  ,   4.34920932,\n",
        "         6.91050287,   2.20374081,   1.6325492 ,  -4.22067033,\n",
        "         4.84644683,   4.19550669,   0.39769774,   3.8376044 ,\n",
        "        -3.97700854,  -1.17844598,   4.29954976,  -1.28604922,\n",
        "        -1.45722396,  -5.82068737,   2.66522344,   2.94958596,\n",
        "         4.00251907,  -1.41025365,  -3.09727143,   3.68225174,\n",
        "        -3.63447026,  -1.13924452,  -0.75919522,  -2.94958638,\n",
        "        -0.97163212,   6.97329116,  -6.08751857,   0.21025425,\n",
        "         0.73944239,   3.67293981,   9.16865709,   0.54641342,\n",
        "         5.19383325,  -2.35694295,  -2.75795268,  -1.21337315,\n",
        "         4.82664789,   1.70900676,   0.85922626,   2.57694917,\n",
        "         7.0534406 ,   6.18102604,  -3.89158665,  10.02419481,\n",
        "        10.11711939,  11.27851058,  -0.39037863,   9.09492404,\n",
        "         6.77785557,  11.0416364 ,   6.87237964,   2.601784  ,\n",
        "         4.51108821,  10.94728774,   9.07200539,   9.25450878,\n",
        "        13.73074978,  14.41309078,  14.41437005,  15.21575666,\n",
        "        16.84637477,  12.39764643,  18.68623133,  19.25073749,\n",
        "        14.76817813,  19.87400897,  19.4343028 ,  34.2410874 ,\n",
        "        31.52628941,  16.91517109,  30.25286377,  36.63980008,\n",
        "        30.08353891,  41.9606359 ,  38.73530993,  45.67223885,\n",
        "        37.64058026,  46.84064151,  49.55577123,  47.8229648 ,\n",
        "        52.48838696,  49.04807143,  57.65049001,  62.35643298,\n",
        "        60.78146122,  62.22912001,  72.15183435,  71.1332343 ,\n",
        "        76.018027  ,  84.49827898,  82.23828572])"
      ],
      "execution_count": null,
      "outputs": []
    },
    {
      "cell_type": "code",
      "metadata": {
        "colab": {
          "base_uri": "https://localhost:8080/",
          "height": 282
        },
        "id": "x7aX6_NWCKbV",
        "outputId": "b7f0a307-825a-4001-9810-f1f8f8a32f63"
      },
      "source": [
        "# Plotting the data for visualisation\n",
        "plt.scatter(x, y, color=\"blue\", alpha=0.5)"
      ],
      "execution_count": null,
      "outputs": [
        {
          "output_type": "execute_result",
          "data": {
            "text/plain": [
              "<matplotlib.collections.PathCollection at 0x7fefe5b374d0>"
            ]
          },
          "metadata": {},
          "execution_count": 11
        },
        {
          "output_type": "display_data",
          "data": {
            "text/plain": [
              "<Figure size 432x288 with 1 Axes>"
            ],
            "image/png": "[encoded data removed]"
          },
          "metadata": {
            "needs_background": "light"
          }
        }
      ]
    },
    {
      "cell_type": "code",
      "metadata": {
        "id": "yVF3QIq7CYxV"
      },
      "source": [
        "# Question 2 Curve Fitting , write your code here\n"
      ],
      "execution_count": null,
      "outputs": []
    }
  ]
}